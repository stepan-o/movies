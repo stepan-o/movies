{
 "cells": [
  {
   "cell_type": "markdown",
   "metadata": {
    "collapsed": true,
    "pycharm": {
     "name": "#%% md\n"
    }
   },
   "source": [
    "# Movies dataset\n",
    "# OSEMN methodology, Step 1:\n",
    "# Obtain data from IMDb\n",
    "For detailed description, refer to $\\texttt{methodology/1.obtain/}$"
   ]
  },
  {
   "cell_type": "code",
   "execution_count": 19,
   "outputs": [],
   "source": [
    "import wget\n",
    "import gzip\n",
    "import shutil\n",
    "from glob import glob\n",
    "from time import time"
   ],
   "metadata": {
    "collapsed": false,
    "pycharm": {
     "name": "#%%\n",
     "is_executing": false
    }
   }
  },
  {
   "cell_type": "markdown",
   "source": [
    "## Download archives from IMDb"
   ],
   "metadata": {
    "collapsed": false,
    "pycharm": {
     "name": "#%% md\n"
    }
   }
  },
  {
   "cell_type": "code",
   "execution_count": 15,
   "outputs": [
    {
     "name": "stdout",
     "text": [
      "Beginning file download with wget module\n- downloading file 'name.basics.tsv.gz'\n",
      "- downloading file 'title.akas.tsv.gz'\n",
      "- downloading file 'title.basics.tsv.gz'\n",
      "- downloading file 'title.crew.tsv.gz'\n",
      "- downloading file 'title.episode.tsv.gz'\n",
      "- downloading file 'title.principals.tsv.gz'\n",
      "- downloading file 'title.ratings.tsv.gz'\n",
      "Download finished, took 87.36 seconds.\n"
     ],
     "output_type": "stream"
    }
   ],
   "source": [
    "t = time()\n",
    "# links to imdb datasets\n",
    "links = [\n",
    "    'https://datasets.imdbws.com/name.basics.tsv.gz',\n",
    "    'https://datasets.imdbws.com/title.akas.tsv.gz',\n",
    "    'https://datasets.imdbws.com/title.basics.tsv.gz',\n",
    "    'https://datasets.imdbws.com/title.crew.tsv.gz',\n",
    "    'https://datasets.imdbws.com/title.episode.tsv.gz',\n",
    "    'https://datasets.imdbws.com/title.principals.tsv.gz',\n",
    "    'https://datasets.imdbws.com/title.ratings.tsv.gz'\n",
    "]\n",
    "\n",
    "data_dir = '../../data/imdb/'\n",
    "download_dir = data_dir + 'downloads/'\n",
    "\n",
    "print('Beginning file download with wget module')\n",
    "\n",
    "for link in links:\n",
    "    file_name = link.split('/')[-1] # extract the file name from the link\n",
    "    print(\"- downloading file '{0}'\".format(file_name))\n",
    "    wget.download(link, download_dir + file_name)\n",
    "\n",
    "elapsed = time() - t\n",
    "print(\"Download finished, took {0:,.2f} seconds.\".format(elapsed))"
   ],
   "metadata": {
    "collapsed": false,
    "pycharm": {
     "name": "#%%\n",
     "is_executing": false
    }
   }
  },
  {
   "cell_type": "markdown",
   "source": [
    "## Unpack archives"
   ],
   "metadata": {
    "collapsed": false,
    "pycharm": {
     "name": "#%% md\n"
    }
   }
  },
  {
   "cell_type": "code",
   "execution_count": 17,
   "outputs": [
    {
     "data": {
      "text/plain": "['../../data/imdb/downloads/title.crew.tsv.gz',\n '../../data/imdb/downloads/title.episode.tsv.gz',\n '../../data/imdb/downloads/title.akas.tsv.gz',\n '../../data/imdb/downloads/title.basics.tsv.gz',\n '../../data/imdb/downloads/title.ratings.tsv.gz',\n '../../data/imdb/downloads/title.principals.tsv.gz',\n '../../data/imdb/downloads/name.basics.tsv.gz']"
     },
     "metadata": {},
     "output_type": "execute_result",
     "execution_count": 17
    }
   ],
   "source": [
    "archives = glob(download_dir + '*')\n",
    "archives"
   ],
   "metadata": {
    "collapsed": false,
    "pycharm": {
     "name": "#%%\n",
     "is_executing": false
    }
   }
  },
  {
   "cell_type": "code",
   "execution_count": 25,
   "outputs": [
    {
     "name": "stdout",
     "text": [
      "Unpacking archives using gzip module\n- unpacking file 'title.crew.tsv.gz'\n",
      "- unpacking file 'title.episode.tsv.gz'\n",
      "- unpacking file 'title.akas.tsv.gz'\n",
      "- unpacking file 'title.basics.tsv.gz'\n",
      "- unpacking file 'title.ratings.tsv.gz'\n- unpacking file 'title.principals.tsv.gz'\n",
      "- unpacking file 'name.basics.tsv.gz'\n",
      "Unpacking finished, took 34.66 seconds.\n"
     ],
     "output_type": "stream"
    }
   ],
   "source": [
    "unpack_dir = data_dir + 'unpacked/'\n",
    "t = time()\n",
    "print(\"Unpacking archives using gzip module\")\n",
    "\n",
    "for archive in archives:\n",
    "    file_name = archive.split('/')[-1]\n",
    "    save_file_name = file_name[:-3]\n",
    "    print(\"- unpacking file '{0}'\".format(file_name))\n",
    "    with gzip.open(archive, 'rb') as f_in:\n",
    "        with open(unpack_dir + save_file_name, 'wb') as f_out:\n",
    "           shutil.copyfileobj(f_in, f_out)\n",
    "\n",
    "elapsed = time() - t\n",
    "print(\"Unpacking finished, took {0:,.2f} seconds.\".format(elapsed))"
   ],
   "metadata": {
    "collapsed": false,
    "pycharm": {
     "name": "#%%\n",
     "is_executing": false
    }
   }
  }
 ],
 "metadata": {
  "language_info": {
   "codemirror_mode": {
    "name": "ipython",
    "version": 2
   },
   "file_extension": ".py",
   "mimetype": "text/x-python",
   "name": "python",
   "nbconvert_exporter": "python",
   "pygments_lexer": "ipython2",
   "version": "2.7.6"
  },
  "kernelspec": {
   "name": "python3",
   "language": "python",
   "display_name": "Python 3"
  },
  "pycharm": {
   "stem_cell": {
    "cell_type": "raw",
    "source": [],
    "metadata": {
     "collapsed": false
    }
   }
  }
 },
 "nbformat": 4,
 "nbformat_minor": 0
}