{
 "cells": [
  {
   "cell_type": "markdown",
   "source": [
    "# Movies dataset\n",
    "# OSEMN methodology, Step 2:\n",
    "# Scrub (clean) data obtained from IMDb\n",
    "For detailed description, refer to $\\texttt{methodology/2.scrub/}$\n",
    "## Cleanup plan\n",
    "1. Replace $\\texttt{\\N}$ with $\\texttt{NaN}$ in column $\\texttt{deathYear}$."
   ],
   "metadata": {
    "collapsed": false
   }
  },
  {
   "cell_type": "markdown",
   "source": [
    "## Import dependencies"
   ],
   "metadata": {
    "collapsed": false,
    "pycharm": {
     "name": "#%% md\n"
    }
   }
  },
  {
   "cell_type": "code",
   "execution_count": 1,
   "outputs": [],
   "source": [
    "import pandas as pd\n",
    "from time import time\n",
    "import os"
   ],
   "metadata": {
    "collapsed": false,
    "pycharm": {
     "name": "#%%\n",
     "is_executing": false
    }
   }
  },
  {
   "cell_type": "code",
   "execution_count": 2,
   "outputs": [
    {
     "data": {
      "text/plain": "['title.akas.tsv',\n 'title.principals.tsv',\n 'title.basics.tsv',\n 'name.basics.tsv',\n 'title.ratings.tsv',\n 'title.crew.tsv',\n 'title.episode.tsv']"
     },
     "metadata": {},
     "output_type": "execute_result",
     "execution_count": 2
    }
   ],
   "source": [
    "data_dir = '../../data/imdb/'\n",
    "tsv_dir = data_dir + 'unpacked/'\n",
    "os.listdir(tsv_dir)"
   ],
   "metadata": {
    "collapsed": false,
    "pycharm": {
     "name": "#%%\n",
     "is_executing": false
    }
   }
  },
  {
   "cell_type": "markdown",
   "source": [
    "## $\\texttt{names.basics}$ dataset"
   ],
   "metadata": {
    "collapsed": false,
    "pycharm": {
     "name": "#%% md\n"
    }
   }
  },
  {
   "cell_type": "markdown",
   "source": [
    "### Read unpacked file"
   ],
   "metadata": {
    "collapsed": false,
    "pycharm": {
     "name": "#%% md\n"
    }
   }
  },
  {
   "cell_type": "code",
   "execution_count": 3,
   "outputs": [
    {
     "name": "stdout",
     "text": [
      "----- DataFrame loaded\nin 17.71 seconds\nwith 9,467,924 rows\nand 6 columns\n-- Column names:\n Index(['nconst', 'primaryName', 'birthYear', 'deathYear', 'primaryProfession',\n       'knownForTitles'],\n      dtype='object')\n"
     ],
     "output_type": "stream"
    }
   ],
   "source": [
    "t = time()\n",
    "file_name = 'name.basics.tsv'\n",
    "df = pd.read_csv(tsv_dir + file_name, delimiter='\\t',\n",
    "                 na_values='\\\\N')\n",
    "elapsed = time() - t\n",
    "print(\"----- DataFrame loaded\"\n",
    "      \"\\nin {0:.2f} seconds\".format(elapsed) + \n",
    "      \"\\nwith {0:,} rows\\nand {1:,} columns\"\n",
    "      .format(df.shape[0], df.shape[1]) + \n",
    "      \"\\n-- Column names:\\n\", df.columns)"
   ],
   "metadata": {
    "collapsed": false,
    "pycharm": {
     "name": "#%%\n",
     "is_executing": false
    }
   }
  },
  {
   "cell_type": "code",
   "execution_count": 4,
   "outputs": [
    {
     "data": {
      "text/plain": "      nconst      primaryName  birthYear  deathYear  \\\n0  nm0000001     Fred Astaire     1899.0     1987.0   \n1  nm0000002    Lauren Bacall     1924.0     2014.0   \n2  nm0000003  Brigitte Bardot     1934.0        NaN   \n3  nm0000004     John Belushi     1949.0     1982.0   \n4  nm0000005   Ingmar Bergman     1918.0     2007.0   \n\n                primaryProfession                           knownForTitles  \n0  soundtrack,actor,miscellaneous  tt0050419,tt0043044,tt0053137,tt0072308  \n1              actress,soundtrack  tt0038355,tt0117057,tt0071877,tt0037382  \n2     actress,soundtrack,producer  tt0049189,tt0054452,tt0057345,tt0059956  \n3         actor,writer,soundtrack  tt0077975,tt0072562,tt0080455,tt0078723  \n4           writer,director,actor  tt0069467,tt0083922,tt0050986,tt0050976  ",
      "text/html": "<div>\n<style scoped>\n    .dataframe tbody tr th:only-of-type {\n        vertical-align: middle;\n    }\n\n    .dataframe tbody tr th {\n        vertical-align: top;\n    }\n\n    .dataframe thead th {\n        text-align: right;\n    }\n</style>\n<table border=\"1\" class=\"dataframe\">\n  <thead>\n    <tr style=\"text-align: right;\">\n      <th></th>\n      <th>nconst</th>\n      <th>primaryName</th>\n      <th>birthYear</th>\n      <th>deathYear</th>\n      <th>primaryProfession</th>\n      <th>knownForTitles</th>\n    </tr>\n  </thead>\n  <tbody>\n    <tr>\n      <th>0</th>\n      <td>nm0000001</td>\n      <td>Fred Astaire</td>\n      <td>1899.0</td>\n      <td>1987.0</td>\n      <td>soundtrack,actor,miscellaneous</td>\n      <td>tt0050419,tt0043044,tt0053137,tt0072308</td>\n    </tr>\n    <tr>\n      <th>1</th>\n      <td>nm0000002</td>\n      <td>Lauren Bacall</td>\n      <td>1924.0</td>\n      <td>2014.0</td>\n      <td>actress,soundtrack</td>\n      <td>tt0038355,tt0117057,tt0071877,tt0037382</td>\n    </tr>\n    <tr>\n      <th>2</th>\n      <td>nm0000003</td>\n      <td>Brigitte Bardot</td>\n      <td>1934.0</td>\n      <td>NaN</td>\n      <td>actress,soundtrack,producer</td>\n      <td>tt0049189,tt0054452,tt0057345,tt0059956</td>\n    </tr>\n    <tr>\n      <th>3</th>\n      <td>nm0000004</td>\n      <td>John Belushi</td>\n      <td>1949.0</td>\n      <td>1982.0</td>\n      <td>actor,writer,soundtrack</td>\n      <td>tt0077975,tt0072562,tt0080455,tt0078723</td>\n    </tr>\n    <tr>\n      <th>4</th>\n      <td>nm0000005</td>\n      <td>Ingmar Bergman</td>\n      <td>1918.0</td>\n      <td>2007.0</td>\n      <td>writer,director,actor</td>\n      <td>tt0069467,tt0083922,tt0050986,tt0050976</td>\n    </tr>\n  </tbody>\n</table>\n</div>"
     },
     "metadata": {},
     "output_type": "execute_result",
     "execution_count": 4
    }
   ],
   "source": [
    "df.head()"
   ],
   "metadata": {
    "collapsed": false,
    "pycharm": {
     "name": "#%%\n",
     "is_executing": false
    }
   }
  },
  {
   "cell_type": "markdown",
   "source": [
    "### Replace $\\texttt{\\N}$ with $\\texttt{NaN}$ in column $\\texttt{deathYear}$\n",
    "Values were replaced via the $\\texttt{pd.read_csv}$ parameters when the file was read."
   ],
   "metadata": {
    "collapsed": false
   }
  },
  {
   "cell_type": "markdown",
   "source": [
    "### Record results to a .csv file"
   ],
   "metadata": {
    "collapsed": false,
    "pycharm": {
     "name": "#%% md\n"
    }
   }
  },
  {
   "cell_type": "code",
   "execution_count": 5,
   "outputs": [
    {
     "name": "stdout",
     "text": [
      "DataFrame saved to file:\n ../../data/imdb/precleaned/name.basics_precleaned.csv \ntook 27.66 seconds\n"
     ],
     "output_type": "stream"
    }
   ],
   "source": [
    "save_path = data_dir + 'precleaned/' + file_name[:-4] + '_precleaned.csv'\n",
    "t = time()\n",
    "df.to_csv(save_path, index=False)\n",
    "elapsed = time() - t\n",
    "print(\"DataFrame saved to file:\\n\", save_path,\n",
    "      \"\\ntook {0:.2f} seconds\".format(elapsed))\n"
   ],
   "metadata": {
    "collapsed": false,
    "pycharm": {
     "name": "#%%\n",
     "is_executing": false
    }
   }
  }
 ],
 "metadata": {
  "language_info": {
   "codemirror_mode": {
    "name": "ipython",
    "version": 2
   },
   "file_extension": ".py",
   "mimetype": "text/x-python",
   "name": "python",
   "nbconvert_exporter": "python",
   "pygments_lexer": "ipython2",
   "version": "2.7.6"
  },
  "kernelspec": {
   "name": "python3",
   "language": "python",
   "display_name": "Python 3"
  },
  "pycharm": {
   "stem_cell": {
    "cell_type": "raw",
    "source": [],
    "metadata": {
     "collapsed": false
    }
   }
  }
 },
 "nbformat": 4,
 "nbformat_minor": 0
}