{
 "cells": [
  {
   "cell_type": "markdown",
   "source": [
    "# Movies dataset\n",
    "# OSEMN methodology, Step 2:\n",
    "# Scrub (clean) data obtained from IMDb\n",
    "For detailed description, refer to $\\texttt{methodology/2.scrub/}$\n",
    "## Cleanup plan\n",
    "1. Drop records that violate referential integrity between tables."
   ],
   "metadata": {
    "collapsed": false
   }
  },
  {
   "cell_type": "markdown",
   "source": [
    "## Import dependencies"
   ],
   "metadata": {
    "collapsed": false,
    "pycharm": {
     "name": "#%% md\n"
    }
   }
  },
  {
   "cell_type": "code",
   "execution_count": 1,
   "outputs": [],
   "source": [
    "import pandas as pd\n",
    "from time import time\n",
    "import os"
   ],
   "metadata": {
    "collapsed": false,
    "pycharm": {
     "name": "#%%\n",
     "is_executing": false
    }
   }
  },
  {
   "cell_type": "code",
   "execution_count": 3,
   "outputs": [
    {
     "data": {
      "text/plain": "['title.basics.tsv',\n 'title.ratings.tsv',\n 'name.basics.tsv',\n 'title.crew.tsv',\n 'title.principals.tsv',\n 'title.akas.tsv',\n 'title.episode.tsv']"
     },
     "metadata": {},
     "output_type": "execute_result",
     "execution_count": 3
    }
   ],
   "source": [
    "data_dir = '../../data/imdb/'\n",
    "tsv_dir = data_dir + 'unpacked/'\n",
    "os.listdir(tsv_dir)"
   ],
   "metadata": {
    "collapsed": false,
    "pycharm": {
     "name": "#%%\n",
     "is_executing": false
    }
   }
  },
  {
   "cell_type": "code",
   "execution_count": 4,
   "outputs": [
    {
     "data": {
      "text/plain": "['title.akas_ri.csv',\n 'title.episode_ri.csv',\n 'title.principals_ri.csv',\n 'title.crew_ri.csv',\n 'movies_public_title.basics.csv',\n 'movies_public_name.basics.csv']"
     },
     "metadata": {},
     "output_type": "execute_result",
     "execution_count": 4
    }
   ],
   "source": [
    "ri_dir = data_dir + 'ref_integrity/'\n",
    "os.listdir(ri_dir)"
   ],
   "metadata": {
    "collapsed": false,
    "pycharm": {
     "name": "#%%\n",
     "is_executing": false
    }
   }
  },
  {
   "cell_type": "markdown",
   "source": [
    "## Referential integrity\n",
    "### $\\texttt{title.basics}$ (PK: $\\texttt{tconst}$) and $\\texttt{title.akas}$ (FK: $\\texttt{titleId}$)\n",
    "#### Read tables"
   ],
   "metadata": {
    "collapsed": false
   }
  },
  {
   "cell_type": "code",
   "execution_count": null,
   "outputs": [],
   "source": [
    "t = time()\n",
    "file_name = 'movies_public_title.basics.csv'\n",
    "df1 = pd.read_csv(ri_dir + file_name, delimiter=',',\n",
    "                 na_values='\\\\N')\n",
    "elapsed = time() - t\n",
    "print(\"----- DataFrame loaded\"\n",
    "      \"\\nin {0:.2f} seconds\".format(elapsed) + \n",
    "      \"\\nwith {0:,} rows\\nand {1:,} columns\"\n",
    "      .format(df1.shape[0], df1.shape[1]) + \n",
    "      \"\\n-- Column names:\\n\", df1.columns)"
   ],
   "metadata": {
    "collapsed": false,
    "pycharm": {
     "name": "#%%\n"
    }
   }
  },
  {
   "cell_type": "code",
   "execution_count": null,
   "outputs": [],
   "source": [
    "t = time()\n",
    "file_name = 'title.akas.tsv'\n",
    "df2 = pd.read_csv(tsv_dir + file_name, delimiter='\\t',\n",
    "                 na_values='\\\\N')\n",
    "elapsed = time() - t\n",
    "print(\"----- DataFrame loaded\"\n",
    "      \"\\nin {0:.2f} seconds\".format(elapsed) + \n",
    "      \"\\nwith {0:,} rows\\nand {1:,} columns\"\n",
    "      .format(df2.shape[0], df2.shape[1]) + \n",
    "      \"\\n-- Column names:\\n\", df2.columns)"
   ],
   "metadata": {
    "collapsed": false,
    "pycharm": {
     "name": "#%%\n"
    }
   }
  },
  {
   "cell_type": "markdown",
   "source": [
    "#### Drop records that violate referential integrity"
   ],
   "metadata": {
    "collapsed": false
   }
  },
  {
   "cell_type": "code",
   "execution_count": null,
   "outputs": [],
   "source": [
    "pk = 'tconst'\n",
    "fk = 'titleId'\n",
    "mask = df2[fk].isin(df1[pk])\n",
    "old_len = len(df2)\n",
    "df2 = df2.drop(df2[~mask].index)\n",
    "print(\"Values of df2 not present in the Primary Key of df1 were dropped!\"\n",
    "      \"\\n{0:,} rows out of {1:,} were removed. {2:,} rows remaining.\"\n",
    "      .format(old_len - len(df2),\n",
    "              old_len,\n",
    "              len(df2)))"
   ],
   "metadata": {
    "collapsed": false,
    "pycharm": {
     "name": "#%%\n"
    }
   }
  },
  {
   "cell_type": "markdown",
   "source": [
    "#### Save results to file"
   ],
   "metadata": {
    "collapsed": false
   }
  },
  {
   "cell_type": "code",
   "execution_count": null,
   "outputs": [],
   "source": [
    "save_path = data_dir + 'ref_integrity/' + file_name[:-4] + '_ri.csv'\n",
    "t = time()\n",
    "df2.to_csv(save_path, index=False)\n",
    "elapsed = time() - t\n",
    "print(\"DataFrame saved to file:\\n\", save_path,\n",
    "      \"\\ntook {0:.2f} seconds\".format(elapsed))"
   ],
   "metadata": {
    "collapsed": false,
    "pycharm": {
     "name": "#%%\n"
    }
   }
  },
  {
   "cell_type": "markdown",
   "source": [
    "### $\\texttt{title.basics}$ (PK: $\\texttt{tconst}$) and $\\texttt{title.episode}$ (FK: $\\texttt{parentTconst}$)\n",
    "#### Read tables"
   ],
   "metadata": {
    "collapsed": false
   }
  },
  {
   "cell_type": "code",
   "execution_count": null,
   "outputs": [],
   "source": [
    "t = time()\n",
    "file_name = 'movies_public_title.basics.csv'\n",
    "df1 = pd.read_csv(ri_dir + file_name, delimiter=',',\n",
    "                 na_values='\\\\N')\n",
    "elapsed = time() - t\n",
    "print(\"----- DataFrame loaded\"\n",
    "      \"\\nin {0:.2f} seconds\".format(elapsed) + \n",
    "      \"\\nwith {0:,} rows\\nand {1:,} columns\"\n",
    "      .format(df1.shape[0], df1.shape[1]) + \n",
    "      \"\\n-- Column names:\\n\", df1.columns)"
   ],
   "metadata": {
    "collapsed": false,
    "pycharm": {
     "name": "#%%\n"
    }
   }
  },
  {
   "cell_type": "code",
   "execution_count": null,
   "outputs": [],
   "source": [
    "t = time()\n",
    "file_name = 'title.episode.tsv'\n",
    "df2 = pd.read_csv(tsv_dir + file_name, delimiter='\\t',\n",
    "                 na_values='\\\\N')\n",
    "elapsed = time() - t\n",
    "print(\"----- DataFrame loaded\"\n",
    "      \"\\nin {0:.2f} seconds\".format(elapsed) + \n",
    "      \"\\nwith {0:,} rows\\nand {1:,} columns\"\n",
    "      .format(df2.shape[0], df2.shape[1]) + \n",
    "      \"\\n-- Column names:\\n\", df2.columns)"
   ],
   "metadata": {
    "collapsed": false,
    "pycharm": {
     "name": "#%%\n"
    }
   }
  },
  {
   "cell_type": "markdown",
   "source": [
    "#### Drop records that violate referential integrity"
   ],
   "metadata": {
    "collapsed": false
   }
  },
  {
   "cell_type": "code",
   "execution_count": null,
   "outputs": [],
   "source": [
    "pk = 'tconst'\n",
    "fk = 'parentTconst'\n",
    "mask = df2[fk].isin(df1[pk])\n",
    "old_len = len(df2)\n",
    "df2 = df2.drop(df2[~mask].index)\n",
    "print(\"Values of df2 not present in the Primary Key of df1 were dropped!\"\n",
    "      \"\\n{0:,} rows out of {1:,} were removed. {2:,} rows remaining.\"\n",
    "      .format(old_len - len(df2),\n",
    "              old_len,\n",
    "              len(df2)))"
   ],
   "metadata": {
    "collapsed": false,
    "pycharm": {
     "name": "#%%\n"
    }
   }
  },
  {
   "cell_type": "markdown",
   "source": [
    "#### Save results to file"
   ],
   "metadata": {
    "collapsed": false
   }
  },
  {
   "cell_type": "code",
   "execution_count": null,
   "outputs": [],
   "source": [
    "save_path = data_dir + 'ref_integrity/' + file_name[:-4] + '_ri.csv'\n",
    "t = time()\n",
    "df2.to_csv(save_path, index=False)\n",
    "elapsed = time() - t\n",
    "print(\"DataFrame saved to file:\\n\", save_path,\n",
    "      \"\\ntook {0:.2f} seconds\".format(elapsed))"
   ],
   "metadata": {
    "collapsed": false,
    "pycharm": {
     "name": "#%%\n"
    }
   }
  },
  {
   "cell_type": "markdown",
   "source": [
    "### $\\texttt{title.basics}$ (PK: $\\texttt{tconst}$) and $\\texttt{title.crew}$ (FK: $\\texttt{tconst}$)\n",
    "#### Read tables"
   ],
   "metadata": {
    "collapsed": false
   }
  },
  {
   "cell_type": "code",
   "execution_count": null,
   "outputs": [],
   "source": [
    "t = time()\n",
    "file_name = 'movies_public_title.basics.csv'\n",
    "df1 = pd.read_csv(ri_dir + file_name, delimiter=',',\n",
    "                 na_values='\\\\N')\n",
    "elapsed = time() - t\n",
    "print(\"----- DataFrame loaded\"\n",
    "      \"\\nin {0:.2f} seconds\".format(elapsed) + \n",
    "      \"\\nwith {0:,} rows\\nand {1:,} columns\"\n",
    "      .format(df1.shape[0], df1.shape[1]) + \n",
    "      \"\\n-- Column names:\\n\", df1.columns)"
   ],
   "metadata": {
    "collapsed": false,
    "pycharm": {
     "name": "#%%\n"
    }
   }
  },
  {
   "cell_type": "code",
   "execution_count": null,
   "outputs": [],
   "source": [
    "t = time()\n",
    "file_name = 'title.crew.tsv'\n",
    "df2 = pd.read_csv(tsv_dir + file_name, delimiter='\\t',\n",
    "                 na_values='\\\\N')\n",
    "elapsed = time() - t\n",
    "print(\"----- DataFrame loaded\"\n",
    "      \"\\nin {0:.2f} seconds\".format(elapsed) + \n",
    "      \"\\nwith {0:,} rows\\nand {1:,} columns\"\n",
    "      .format(df2.shape[0], df2.shape[1]) + \n",
    "      \"\\n-- Column names:\\n\", df2.columns)"
   ],
   "metadata": {
    "collapsed": false,
    "pycharm": {
     "name": "#%%\n"
    }
   }
  },
  {
   "cell_type": "markdown",
   "source": [
    "#### Drop records that violate referential integrity"
   ],
   "metadata": {
    "collapsed": false
   }
  },
  {
   "cell_type": "code",
   "execution_count": null,
   "outputs": [],
   "source": [
    "pk = 'tconst'\n",
    "fk = 'tconst'\n",
    "mask = df2[fk].isin(df1[pk])\n",
    "old_len = len(df2)\n",
    "df2 = df2.drop(df2[~mask].index)\n",
    "print(\"Values of df2 not present in the Primary Key of df1 were dropped!\"\n",
    "      \"\\n{0:,} rows out of {1:,} were removed. {2:,} rows remaining.\"\n",
    "      .format(old_len - len(df2),\n",
    "              old_len,\n",
    "              len(df2)))"
   ],
   "metadata": {
    "collapsed": false,
    "pycharm": {
     "name": "#%%\n"
    }
   }
  },
  {
   "cell_type": "markdown",
   "source": [
    "#### Save results to file"
   ],
   "metadata": {
    "collapsed": false
   }
  },
  {
   "cell_type": "code",
   "execution_count": null,
   "outputs": [],
   "source": [
    "save_path = data_dir + 'ref_integrity/' + file_name[:-4] + '_ri.csv'\n",
    "t = time()\n",
    "df2.to_csv(save_path, index=False)\n",
    "elapsed = time() - t\n",
    "print(\"DataFrame saved to file:\\n\", save_path,\n",
    "      \"\\ntook {0:.2f} seconds\".format(elapsed))"
   ],
   "metadata": {
    "collapsed": false,
    "pycharm": {
     "name": "#%%\n"
    }
   }
  },
  {
   "cell_type": "markdown",
   "source": [
    "### $\\texttt{name.basics}$ (PK: $\\texttt{nconst}$) and $\\texttt{title.crew}$ (FKs: $\\texttt{writers},~\\texttt{directors}$)\n",
    "#### Read tables"
   ],
   "metadata": {
    "collapsed": false
   }
  },
  {
   "cell_type": "code",
   "execution_count": 4,
   "outputs": [
    {
     "name": "stdout",
     "text": [
      "----- DataFrame loaded\nin 15.28 seconds\nwith 9,460,059 rows\nand 6 columns\n-- Column names:\n Index(['nconst', 'primaryname', 'birthyear', 'deathyear', 'primaryprofession',\n       'knownfortitles'],\n      dtype='object')\n"
     ],
     "output_type": "stream"
    }
   ],
   "source": [
    "t = time()\n",
    "file_name = 'movies_public_name.basics.csv'\n",
    "df1 = pd.read_csv(ri_dir + file_name, delimiter=',',\n",
    "                 na_values='\\\\N')\n",
    "elapsed = time() - t\n",
    "print(\"----- DataFrame loaded\"\n",
    "      \"\\nin {0:.2f} seconds\".format(elapsed) + \n",
    "      \"\\nwith {0:,} rows\\nand {1:,} columns\"\n",
    "      .format(df1.shape[0], df1.shape[1]) + \n",
    "      \"\\n-- Column names:\\n\", df1.columns)"
   ],
   "metadata": {
    "collapsed": false,
    "pycharm": {
     "name": "#%%\n",
     "is_executing": false
    }
   }
  },
  {
   "cell_type": "code",
   "execution_count": 5,
   "outputs": [
    {
     "name": "stdout",
     "text": [
      "----- DataFrame loaded\nin 5.60 seconds\nwith 6,028,571 rows\nand 3 columns\n-- Column names:\n Index(['tconst', 'directors', 'writers'], dtype='object')\n"
     ],
     "output_type": "stream"
    }
   ],
   "source": [
    "t = time()\n",
    "file_name = 'title.crew.tsv'\n",
    "df2 = pd.read_csv(tsv_dir + file_name, delimiter='\\t',\n",
    "                 na_values='\\\\N')\n",
    "elapsed = time() - t\n",
    "print(\"----- DataFrame loaded\"\n",
    "      \"\\nin {0:.2f} seconds\".format(elapsed) + \n",
    "      \"\\nwith {0:,} rows\\nand {1:,} columns\"\n",
    "      .format(df2.shape[0], df2.shape[1]) + \n",
    "      \"\\n-- Column names:\\n\", df2.columns)"
   ],
   "metadata": {
    "collapsed": false,
    "pycharm": {
     "name": "#%%\n",
     "is_executing": false
    }
   }
  },
  {
   "cell_type": "code",
   "execution_count": null,
   "outputs": [],
   "source": [
    "title_crew_writers_list = df2['writers'].dropna().str.split(',').sum()"
   ],
   "metadata": {
    "collapsed": false,
    "pycharm": {
     "name": "#%%\n",
     "is_executing": true
    }
   }
  },
  {
   "cell_type": "markdown",
   "source": [
    "#### Drop records that violate referential integrity"
   ],
   "metadata": {
    "collapsed": false,
    "pycharm": {
     "name": "#%% md\n"
    }
   }
  },
  {
   "cell_type": "code",
   "source": [
    "pk = 'tconst'\n",
    "fk = 'tconst'\n",
    "mask = df2[fk].isin(df1[pk])\n",
    "old_len = len(df2)\n",
    "df2 = df2.drop(df2[~mask].index)\n",
    "print(\"Values of df2 not present in the Primary Key of df1 were dropped!\"\n",
    "      \"\\n{0:,} rows out of {1:,} were removed. {2:,} rows remaining.\"\n",
    "      .format(old_len - len(df2),\n",
    "              old_len,\n",
    "              len(df2)))"
   ],
   "metadata": {
    "collapsed": false,
    "pycharm": {
     "name": "#%%\n",
     "is_executing": false
    }
   },
   "execution_count": 16,
   "outputs": [
    {
     "name": "stdout",
     "text": [
      "Values of df2 not present in the Primary Key of df1 were dropped!\n5,153 rows out of 6,028,571 were removed. 6,023,418 rows remaining.\n"
     ],
     "output_type": "stream"
    }
   ]
  },
  {
   "cell_type": "markdown",
   "source": [
    "#### Save results to file"
   ],
   "metadata": {
    "collapsed": false,
    "pycharm": {
     "name": "#%% md\n"
    }
   }
  },
  {
   "cell_type": "code",
   "execution_count": 17,
   "outputs": [
    {
     "name": "stdout",
     "text": [
      "DataFrame saved to file:\n ../../data/imdb/ref_integrity/title.crew_ri.csv \ntook 9.20 seconds\n"
     ],
     "output_type": "stream"
    }
   ],
   "source": [
    "save_path = data_dir + 'ref_integrity/' + file_name[:-4] + '_ri.csv'\n",
    "t = time()\n",
    "df2.to_csv(save_path, index=False)\n",
    "elapsed = time() - t\n",
    "print(\"DataFrame saved to file:\\n\", save_path,\n",
    "      \"\\ntook {0:.2f} seconds\".format(elapsed))"
   ],
   "metadata": {
    "collapsed": false,
    "pycharm": {
     "name": "#%%\n",
     "is_executing": false
    }
   }
  },
  {
   "cell_type": "markdown",
   "source": [
    "### $\\texttt{title.basics}$ (PK: $\\texttt{tconst}$) and $\\texttt{title.principals}$ (FK: $\\texttt{tconst}$)\n",
    "#### Read tables"
   ],
   "metadata": {
    "collapsed": false
   }
  },
  {
   "cell_type": "code",
   "execution_count": 5,
   "outputs": [
    {
     "name": "stdout",
     "text": [
      "----- DataFrame loaded\nin 13.81 seconds\nwith 6,023,418 rows\nand 9 columns\n-- Column names:\n Index(['tconst', 'titletype', 'primarytitle', 'originaltitle', 'isadult',\n       'startyear', 'endyear', 'runtimeminutes', 'genres'],\n      dtype='object')\n"
     ],
     "output_type": "stream"
    }
   ],
   "source": [
    "t = time()\n",
    "file_name = 'movies_public_title.basics.csv'\n",
    "df1 = pd.read_csv(ri_dir + file_name, delimiter=',',\n",
    "                 na_values='\\\\N')\n",
    "elapsed = time() - t\n",
    "print(\"----- DataFrame loaded\"\n",
    "      \"\\nin {0:.2f} seconds\".format(elapsed) + \n",
    "      \"\\nwith {0:,} rows\\nand {1:,} columns\"\n",
    "      .format(df1.shape[0], df1.shape[1]) + \n",
    "      \"\\n-- Column names:\\n\", df1.columns)"
   ],
   "metadata": {
    "collapsed": false,
    "pycharm": {
     "name": "#%%\n",
     "is_executing": false
    }
   }
  },
  {
   "cell_type": "code",
   "execution_count": 6,
   "outputs": [
    {
     "name": "stdout",
     "text": [
      "----- DataFrame loaded\nin 39.18 seconds\nwith 34,780,589 rows\nand 6 columns\n-- Column names:\n Index(['tconst', 'ordering', 'nconst', 'category', 'job', 'characters'], dtype='object')\n"
     ],
     "output_type": "stream"
    }
   ],
   "source": [
    "t = time()\n",
    "file_name = 'title.principals.tsv'\n",
    "df2 = pd.read_csv(tsv_dir + file_name, delimiter='\\t',\n",
    "                 na_values='\\\\N')\n",
    "elapsed = time() - t\n",
    "print(\"----- DataFrame loaded\"\n",
    "      \"\\nin {0:.2f} seconds\".format(elapsed) + \n",
    "      \"\\nwith {0:,} rows\\nand {1:,} columns\"\n",
    "      .format(df2.shape[0], df2.shape[1]) + \n",
    "      \"\\n-- Column names:\\n\", df2.columns)"
   ],
   "metadata": {
    "collapsed": false,
    "pycharm": {
     "name": "#%%\n",
     "is_executing": false
    }
   }
  },
  {
   "cell_type": "markdown",
   "source": [
    "#### Drop records that violate referential integrity"
   ],
   "metadata": {
    "collapsed": false
   }
  },
  {
   "cell_type": "code",
   "execution_count": 7,
   "outputs": [
    {
     "name": "stdout",
     "text": [
      "Values of df2 not present in the Primary Key of df1 were dropped!\n25,284 rows out of 34,780,589 were removed. 34,755,305 rows remaining. \nTook 67.05 seconds.\n"
     ],
     "output_type": "stream"
    }
   ],
   "source": [
    "t = time()\n",
    "pk = 'tconst'\n",
    "fk = 'tconst'\n",
    "mask = df2[fk].isin(df1[pk])\n",
    "old_len = len(df2)\n",
    "df2 = df2.drop(df2[~mask].index)\n",
    "elapsed = time() - t\n",
    "print(\"Values of df2 not present in the Primary Key of df1 were dropped!\"\n",
    "      \"\\n{0:,} rows out of {1:,} were removed. {2:,} rows remaining.\"\n",
    "      .format(old_len - len(df2),\n",
    "              old_len,\n",
    "              len(df2)),\n",
    "      \"\\nTook {0:,.2f} seconds.\".format(elapsed))"
   ],
   "metadata": {
    "collapsed": false,
    "pycharm": {
     "name": "#%%\n",
     "is_executing": false
    }
   }
  },
  {
   "cell_type": "markdown",
   "source": [
    "### $\\texttt{name.basics}$ (PK: $\\texttt{nconst}$) and $\\texttt{title.principals}$ (FK: $\\texttt{nconst}$)"
   ],
   "metadata": {
    "collapsed": false
   }
  },
  {
   "cell_type": "code",
   "execution_count": null,
   "outputs": [],
   "source": [
    "t = time()\n",
    "file_name = 'movies_public_name.basics.csv'\n",
    "df1 = pd.read_csv(ri_dir + file_name, delimiter=',',\n",
    "                 na_values='\\\\N')\n",
    "elapsed = time() - t\n",
    "print(\"----- DataFrame loaded\"\n",
    "      \"\\nin {0:.2f} seconds\".format(elapsed) + \n",
    "      \"\\nwith {0:,} rows\\nand {1:,} columns\"\n",
    "      .format(df1.shape[0], df1.shape[1]) + \n",
    "      \"\\n-- Column names:\\n\", df1.columns)"
   ],
   "metadata": {
    "collapsed": false,
    "pycharm": {
     "name": "#%%\n"
    }
   }
  },
  {
   "cell_type": "markdown",
   "source": [
    "#### Drop records that violate referential integrity"
   ],
   "metadata": {
    "collapsed": false
   }
  },
  {
   "cell_type": "code",
   "execution_count": null,
   "outputs": [],
   "source": [
    "t = time()\n",
    "pk = 'nconst'\n",
    "fk = 'nconst'\n",
    "mask = df2[fk].isin(df1[pk])\n",
    "old_len = len(df2)\n",
    "df2 = df2.drop(df2[~mask].index)\n",
    "elapsed = time() - t\n",
    "print(\"Values of df2 not present in the Primary Key of df1 were dropped!\"\n",
    "      \"\\n{0:,} rows out of {1:,} were removed. {2:,} rows remaining.\"\n",
    "      .format(old_len - len(df2),\n",
    "              old_len,\n",
    "              len(df2)),\n",
    "      \"\\nTook {0:,.2f} seconds.\".format(elapsed))"
   ],
   "metadata": {
    "collapsed": false,
    "pycharm": {
     "name": "#%%\n"
    }
   }
  },
  {
   "cell_type": "markdown",
   "source": [
    "#### Save results to file"
   ],
   "metadata": {
    "collapsed": false
   }
  },
  {
   "cell_type": "code",
   "execution_count": 7,
   "outputs": [
    {
     "name": "stdout",
     "text": [
      "DataFrame saved to file:\n ../../data/imdb/ref_integrity/title.principals_ri.csv \ntook 92.26 seconds\n"
     ],
     "output_type": "stream"
    }
   ],
   "source": [
    "save_path = data_dir + 'ref_integrity/' + file_name[:-4] + '_ri.csv'\n",
    "t = time()\n",
    "df2.to_csv(save_path, index=False)\n",
    "elapsed = time() - t\n",
    "print(\"DataFrame saved to file:\\n\", save_path,\n",
    "      \"\\ntook {0:.2f} seconds\".format(elapsed))"
   ],
   "metadata": {
    "collapsed": false,
    "pycharm": {
     "name": "#%%\n",
     "is_executing": false
    }
   }
  }
 ],
 "metadata": {
  "language_info": {
   "codemirror_mode": {
    "name": "ipython",
    "version": 2
   },
   "file_extension": ".py",
   "mimetype": "text/x-python",
   "name": "python",
   "nbconvert_exporter": "python",
   "pygments_lexer": "ipython2",
   "version": "2.7.6"
  },
  "kernelspec": {
   "name": "python3",
   "language": "python",
   "display_name": "Python 3"
  },
  "pycharm": {
   "stem_cell": {
    "cell_type": "raw",
    "source": [],
    "metadata": {
     "collapsed": false
    }
   }
  }
 },
 "nbformat": 4,
 "nbformat_minor": 0
}