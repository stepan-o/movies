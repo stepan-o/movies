{
 "cells": [
  {
   "cell_type": "markdown",
   "source": [
    "# Movies dataset\n",
    "# OSEMN methodology, Step 2:\n",
    "# Scrub (clean) data obtained from IMDb\n",
    "For detailed description, refer to $\\texttt{methodology/2.scrub/}$\n",
    "## Cleanup plan\n",
    "1. Drop records that violate referential integrity between tables."
   ],
   "metadata": {
    "collapsed": false
   }
  },
  {
   "cell_type": "markdown",
   "source": [
    "## Import dependencies"
   ],
   "metadata": {
    "collapsed": false,
    "pycharm": {
     "name": "#%% md\n"
    }
   }
  },
  {
   "cell_type": "code",
   "execution_count": 1,
   "outputs": [],
   "source": [
    "import pandas as pd\n",
    "from time import time\n",
    "import os"
   ],
   "metadata": {
    "collapsed": false,
    "pycharm": {
     "name": "#%%\n",
     "is_executing": false
    }
   }
  },
  {
   "cell_type": "code",
   "execution_count": 2,
   "outputs": [
    {
     "data": {
      "text/plain": "['title.ratings.tsv',\n 'title.basics.tsv',\n 'name.basics.tsv',\n 'title.akas.tsv',\n 'title.principals.tsv',\n 'title.crew.tsv',\n 'title.episode.tsv']"
     },
     "metadata": {},
     "output_type": "execute_result",
     "execution_count": 2
    }
   ],
   "source": [
    "data_dir = '../../data/imdb/'\n",
    "tsv_dir = data_dir + 'unpacked/'\n",
    "os.listdir(tsv_dir)"
   ],
   "metadata": {
    "collapsed": false,
    "pycharm": {
     "name": "#%%\n",
     "is_executing": false
    }
   }
  },
  {
   "cell_type": "code",
   "execution_count": 3,
   "outputs": [
    {
     "data": {
      "text/plain": "['movies_public_title_basics.csv',\n 'movies_public_name_basics.csv',\n 'movies_public_title.basics.csv',\n 'title.principals_ri.csv',\n 'title.akas_ri.csv',\n 'title.crew_ri.csv',\n 'movies_public_name.basics.csv',\n 'title.ratings_ri.csv',\n 'title.episode_ri.csv']"
     },
     "metadata": {},
     "output_type": "execute_result",
     "execution_count": 3
    }
   ],
   "source": [
    "ri_dir = data_dir + 'ref_integrity/'\n",
    "os.listdir(ri_dir)"
   ],
   "metadata": {
    "collapsed": false,
    "pycharm": {
     "name": "#%%\n",
     "is_executing": false
    }
   }
  },
  {
   "cell_type": "markdown",
   "source": [
    "## Referential integrity\n",
    "### $\\texttt{title.basics}$ (PK: $\\texttt{tconst}$) and $\\texttt{title.akas}$ (FK: $\\texttt{titleId}$)\n",
    "#### Read tables"
   ],
   "metadata": {
    "collapsed": false
   }
  },
  {
   "cell_type": "code",
   "execution_count": 4,
   "outputs": [
    {
     "name": "stdout",
     "text": [
      "----- DataFrame loaded\nin 19.71 seconds\nwith 6,028,478 rows\nand 9 columns\n-- Column names:\n Index(['tconst', 'titletype', 'primarytitle', 'originaltitle', 'isadult',\n       'startyear', 'endyear', 'runtimeminutes', 'genres'],\n      dtype='object')\n"
     ],
     "output_type": "stream"
    }
   ],
   "source": [
    "t = time()\n",
    "file_name = 'movies_public_title_basics.csv'\n",
    "df1 = pd.read_csv(ri_dir + file_name, delimiter=',',\n",
    "                 na_values='\\\\N')\n",
    "elapsed = time() - t\n",
    "print(\"----- DataFrame loaded\"\n",
    "      \"\\nin {0:.2f} seconds\".format(elapsed) + \n",
    "      \"\\nwith {0:,} rows\\nand {1:,} columns\"\n",
    "      .format(df1.shape[0], df1.shape[1]) + \n",
    "      \"\\n-- Column names:\\n\", df1.columns)"
   ],
   "metadata": {
    "collapsed": false,
    "pycharm": {
     "name": "#%%\n",
     "is_executing": false
    }
   }
  },
  {
   "cell_type": "code",
   "execution_count": 5,
   "outputs": [
    {
     "name": "stdout",
     "text": [
      "----- DataFrame loaded\nin 8.22 seconds\nwith 3,694,121 rows\nand 8 columns\n-- Column names:\n Index(['titleId', 'ordering', 'title', 'region', 'language', 'types',\n       'attributes', 'isOriginalTitle'],\n      dtype='object')\n"
     ],
     "output_type": "stream"
    }
   ],
   "source": [
    "t = time()\n",
    "file_name = 'title.akas.tsv'\n",
    "df2 = pd.read_csv(tsv_dir + file_name, delimiter='\\t',\n",
    "                 na_values='\\\\N')\n",
    "elapsed = time() - t\n",
    "print(\"----- DataFrame loaded\"\n",
    "      \"\\nin {0:.2f} seconds\".format(elapsed) + \n",
    "      \"\\nwith {0:,} rows\\nand {1:,} columns\"\n",
    "      .format(df2.shape[0], df2.shape[1]) + \n",
    "      \"\\n-- Column names:\\n\", df2.columns)"
   ],
   "metadata": {
    "collapsed": false,
    "pycharm": {
     "name": "#%%\n",
     "is_executing": false
    }
   }
  },
  {
   "cell_type": "markdown",
   "source": [
    "#### Drop records that violate referential integrity"
   ],
   "metadata": {
    "collapsed": false
   }
  },
  {
   "cell_type": "code",
   "execution_count": 6,
   "outputs": [
    {
     "name": "stdout",
     "text": [
      "Values of df2 not present in the Primary Key of df1 were dropped!\n7,711 rows out of 3,694,121 were removed. 3,686,410 rows remaining.\n"
     ],
     "output_type": "stream"
    }
   ],
   "source": [
    "pk = 'tconst'\n",
    "fk = 'titleId'\n",
    "mask = df2[fk].isin(df1[pk])\n",
    "old_len = len(df2)\n",
    "df2 = df2.drop(df2[~mask].index)\n",
    "print(\"Values of df2 not present in the Primary Key of df1 were dropped!\"\n",
    "      \"\\n{0:,} rows out of {1:,} were removed. {2:,} rows remaining.\"\n",
    "      .format(old_len - len(df2),\n",
    "              old_len,\n",
    "              len(df2)))"
   ],
   "metadata": {
    "collapsed": false,
    "pycharm": {
     "name": "#%%\n",
     "is_executing": false
    }
   }
  },
  {
   "cell_type": "markdown",
   "source": [
    "#### Save results to file"
   ],
   "metadata": {
    "collapsed": false
   }
  },
  {
   "cell_type": "code",
   "execution_count": 7,
   "outputs": [
    {
     "name": "stdout",
     "text": [
      "DataFrame saved to file:\n ../../data/imdb/ref_integrity/title.akas_ri.csv \ntook 21.88 seconds\n"
     ],
     "output_type": "stream"
    }
   ],
   "source": [
    "save_path = data_dir + 'ref_integrity/' + file_name[:-4] + '_ri.csv'\n",
    "t = time()\n",
    "df2.to_csv(save_path, index=False)\n",
    "elapsed = time() - t\n",
    "print(\"DataFrame saved to file:\\n\", save_path,\n",
    "      \"\\ntook {0:.2f} seconds\".format(elapsed))"
   ],
   "metadata": {
    "collapsed": false,
    "pycharm": {
     "name": "#%%\n",
     "is_executing": false
    }
   }
  },
  {
   "cell_type": "markdown",
   "source": [
    "### $\\texttt{title.basics}$ (PK: $\\texttt{tconst}$) and $\\texttt{title.episode}$ (FK: $\\texttt{parentTconst}$)\n",
    "#### Read tables"
   ],
   "metadata": {
    "collapsed": false
   }
  },
  {
   "cell_type": "code",
   "execution_count": null,
   "outputs": [],
   "source": [
    "t = time()\n",
    "file_name = 'movies_public_title.basics.csv'\n",
    "df1 = pd.read_csv(ri_dir + file_name, delimiter=',',\n",
    "                 na_values='\\\\N')\n",
    "elapsed = time() - t\n",
    "print(\"----- DataFrame loaded\"\n",
    "      \"\\nin {0:.2f} seconds\".format(elapsed) + \n",
    "      \"\\nwith {0:,} rows\\nand {1:,} columns\"\n",
    "      .format(df1.shape[0], df1.shape[1]) + \n",
    "      \"\\n-- Column names:\\n\", df1.columns)"
   ],
   "metadata": {
    "collapsed": false,
    "pycharm": {
     "name": "#%%\n"
    }
   }
  },
  {
   "cell_type": "code",
   "execution_count": 8,
   "outputs": [
    {
     "name": "stdout",
     "text": [
      "----- DataFrame loaded\nin 4.81 seconds\nwith 4,205,585 rows\nand 4 columns\n-- Column names:\n Index(['tconst', 'parentTconst', 'seasonNumber', 'episodeNumber'], dtype='object')\n"
     ],
     "output_type": "stream"
    }
   ],
   "source": [
    "t = time()\n",
    "file_name = 'title.episode.tsv'\n",
    "df2 = pd.read_csv(tsv_dir + file_name, delimiter='\\t',\n",
    "                 na_values='\\\\N')\n",
    "elapsed = time() - t\n",
    "print(\"----- DataFrame loaded\"\n",
    "      \"\\nin {0:.2f} seconds\".format(elapsed) + \n",
    "      \"\\nwith {0:,} rows\\nand {1:,} columns\"\n",
    "      .format(df2.shape[0], df2.shape[1]) + \n",
    "      \"\\n-- Column names:\\n\", df2.columns)"
   ],
   "metadata": {
    "collapsed": false,
    "pycharm": {
     "name": "#%%\n",
     "is_executing": false
    }
   }
  },
  {
   "cell_type": "markdown",
   "source": [
    "#### Drop records that violate referential integrity"
   ],
   "metadata": {
    "collapsed": false
   }
  },
  {
   "cell_type": "code",
   "execution_count": 9,
   "outputs": [
    {
     "name": "stdout",
     "text": [
      "Values of df2 not present in the Primary Key of df1 were dropped!\n2,110 rows out of 4,205,585 were removed. 4,203,475 rows remaining.\n"
     ],
     "output_type": "stream"
    }
   ],
   "source": [
    "pk = 'tconst'\n",
    "fk = 'parentTconst'\n",
    "mask = df2[fk].isin(df1[pk])\n",
    "old_len = len(df2)\n",
    "df2 = df2.drop(df2[~mask].index)\n",
    "print(\"Values of df2 not present in the Primary Key of df1 were dropped!\"\n",
    "      \"\\n{0:,} rows out of {1:,} were removed. {2:,} rows remaining.\"\n",
    "      .format(old_len - len(df2),\n",
    "              old_len,\n",
    "              len(df2)))"
   ],
   "metadata": {
    "collapsed": false,
    "pycharm": {
     "name": "#%%\n",
     "is_executing": false
    }
   }
  },
  {
   "cell_type": "markdown",
   "source": [
    "#### Save results to file"
   ],
   "metadata": {
    "collapsed": false
   }
  },
  {
   "cell_type": "code",
   "execution_count": 10,
   "outputs": [
    {
     "name": "stdout",
     "text": [
      "DataFrame saved to file:\n ../../data/imdb/ref_integrity/title.episode_ri.csv \ntook 17.17 seconds\n"
     ],
     "output_type": "stream"
    }
   ],
   "source": [
    "save_path = data_dir + 'ref_integrity/' + file_name[:-4] + '_ri.csv'\n",
    "t = time()\n",
    "df2.to_csv(save_path, index=False)\n",
    "elapsed = time() - t\n",
    "print(\"DataFrame saved to file:\\n\", save_path,\n",
    "      \"\\ntook {0:.2f} seconds\".format(elapsed))"
   ],
   "metadata": {
    "collapsed": false,
    "pycharm": {
     "name": "#%%\n",
     "is_executing": false
    }
   }
  },
  {
   "cell_type": "code",
   "execution_count": 11,
   "outputs": [
    {
     "data": {
      "text/plain": "4203475"
     },
     "metadata": {},
     "output_type": "execute_result",
     "execution_count": 11
    }
   ],
   "source": [
    "len(df2)"
   ],
   "metadata": {
    "collapsed": false,
    "pycharm": {
     "name": "#%%\n",
     "is_executing": false
    }
   }
  },
  {
   "cell_type": "markdown",
   "source": [
    "### $\\texttt{title.basics}$ (PK: $\\texttt{tconst}$) and $\\texttt{title.crew}$ (FK: $\\texttt{tconst}$)\n",
    "#### Read tables"
   ],
   "metadata": {
    "collapsed": false
   }
  },
  {
   "cell_type": "code",
   "execution_count": null,
   "outputs": [],
   "source": [
    "t = time()\n",
    "file_name = 'movies_public_title.basics.csv'\n",
    "df1 = pd.read_csv(ri_dir + file_name, delimiter=',',\n",
    "                 na_values='\\\\N')\n",
    "elapsed = time() - t\n",
    "print(\"----- DataFrame loaded\"\n",
    "      \"\\nin {0:.2f} seconds\".format(elapsed) + \n",
    "      \"\\nwith {0:,} rows\\nand {1:,} columns\"\n",
    "      .format(df1.shape[0], df1.shape[1]) + \n",
    "      \"\\n-- Column names:\\n\", df1.columns)"
   ],
   "metadata": {
    "collapsed": false,
    "pycharm": {
     "name": "#%%\n"
    }
   }
  },
  {
   "cell_type": "code",
   "execution_count": null,
   "outputs": [],
   "source": [
    "t = time()\n",
    "file_name = 'title.crew.tsv'\n",
    "df2 = pd.read_csv(tsv_dir + file_name, delimiter='\\t',\n",
    "                 na_values='\\\\N')\n",
    "elapsed = time() - t\n",
    "print(\"----- DataFrame loaded\"\n",
    "      \"\\nin {0:.2f} seconds\".format(elapsed) + \n",
    "      \"\\nwith {0:,} rows\\nand {1:,} columns\"\n",
    "      .format(df2.shape[0], df2.shape[1]) + \n",
    "      \"\\n-- Column names:\\n\", df2.columns)"
   ],
   "metadata": {
    "collapsed": false,
    "pycharm": {
     "name": "#%%\n"
    }
   }
  },
  {
   "cell_type": "markdown",
   "source": [
    "#### Drop records that violate referential integrity"
   ],
   "metadata": {
    "collapsed": false
   }
  },
  {
   "cell_type": "code",
   "execution_count": null,
   "outputs": [],
   "source": [
    "pk = 'tconst'\n",
    "fk = 'tconst'\n",
    "mask = df2[fk].isin(df1[pk])\n",
    "old_len = len(df2)\n",
    "df2 = df2.drop(df2[~mask].index)\n",
    "print(\"Values of df2 not present in the Primary Key of df1 were dropped!\"\n",
    "      \"\\n{0:,} rows out of {1:,} were removed. {2:,} rows remaining.\"\n",
    "      .format(old_len - len(df2),\n",
    "              old_len,\n",
    "              len(df2)))"
   ],
   "metadata": {
    "collapsed": false,
    "pycharm": {
     "name": "#%%\n"
    }
   }
  },
  {
   "cell_type": "markdown",
   "source": [
    "#### Save results to file"
   ],
   "metadata": {
    "collapsed": false
   }
  },
  {
   "cell_type": "code",
   "execution_count": null,
   "outputs": [],
   "source": [
    "save_path = data_dir + 'ref_integrity/' + file_name[:-4] + '_ri.csv'\n",
    "t = time()\n",
    "df2.to_csv(save_path, index=False)\n",
    "elapsed = time() - t\n",
    "print(\"DataFrame saved to file:\\n\", save_path,\n",
    "      \"\\ntook {0:.2f} seconds\".format(elapsed))"
   ],
   "metadata": {
    "collapsed": false,
    "pycharm": {
     "name": "#%%\n"
    }
   }
  },
  {
   "cell_type": "markdown",
   "source": [
    "### $\\texttt{name.basics}$ (PK: $\\texttt{nconst}$) and $\\texttt{title.crew}$ (FKs: $\\texttt{writers},~\\texttt{directors}$)\n",
    "#### Read tables"
   ],
   "metadata": {
    "collapsed": false
   }
  },
  {
   "cell_type": "code",
   "execution_count": 4,
   "outputs": [
    {
     "name": "stdout",
     "text": [
      "----- DataFrame loaded\nin 29.55 seconds\nwith 9,460,059 rows\nand 6 columns\n-- Column names:\n Index(['nconst', 'primaryname', 'birthyear', 'deathyear', 'primaryprofession',\n       'knownfortitles'],\n      dtype='object')\n"
     ],
     "output_type": "stream"
    }
   ],
   "source": [
    "t = time()\n",
    "file_name = 'movies_public_name.basics.csv'\n",
    "df1 = pd.read_csv(ri_dir + file_name, delimiter=',',\n",
    "                 na_values='\\\\N')\n",
    "elapsed = time() - t\n",
    "print(\"----- DataFrame loaded\"\n",
    "      \"\\nin {0:.2f} seconds\".format(elapsed) + \n",
    "      \"\\nwith {0:,} rows\\nand {1:,} columns\"\n",
    "      .format(df1.shape[0], df1.shape[1]) + \n",
    "      \"\\n-- Column names:\\n\", df1.columns)"
   ],
   "metadata": {
    "collapsed": false,
    "pycharm": {
     "name": "#%%\n",
     "is_executing": false
    }
   }
  },
  {
   "cell_type": "code",
   "execution_count": 5,
   "outputs": [
    {
     "name": "stdout",
     "text": [
      "----- DataFrame loaded\nin 8.65 seconds\nwith 6,036,478 rows\nand 3 columns\n-- Column names:\n Index(['tconst', 'directors', 'writers'], dtype='object')\n"
     ],
     "output_type": "stream"
    }
   ],
   "source": [
    "t = time()\n",
    "file_name = 'title.crew.tsv'\n",
    "df2 = pd.read_csv(tsv_dir + file_name, delimiter='\\t',\n",
    "                 na_values='\\\\N')\n",
    "elapsed = time() - t\n",
    "print(\"----- DataFrame loaded\"\n",
    "      \"\\nin {0:.2f} seconds\".format(elapsed) + \n",
    "      \"\\nwith {0:,} rows\\nand {1:,} columns\"\n",
    "      .format(df2.shape[0], df2.shape[1]) + \n",
    "      \"\\n-- Column names:\\n\", df2.columns)"
   ],
   "metadata": {
    "collapsed": false,
    "pycharm": {
     "name": "#%%\n",
     "is_executing": false
    }
   }
  },
  {
   "cell_type": "code",
   "execution_count": null,
   "outputs": [],
   "source": [
    "t = time()\n",
    "title_crew_writers_list = df2['writers'].dropna().str.split(',').sum()\n",
    "elapsed = time() - t\n",
    "print(\"Finished! Took {0:,.2f} seconds.\".format(elapsed))"
   ],
   "metadata": {
    "collapsed": false,
    "pycharm": {
     "name": "#%%\n",
     "is_executing": true
    }
   }
  },
  {
   "cell_type": "markdown",
   "source": [
    "#### Drop records that violate referential integrity"
   ],
   "metadata": {
    "collapsed": false,
    "pycharm": {
     "name": "#%% md\n"
    }
   }
  },
  {
   "cell_type": "code",
   "source": [
    "pk = 'tconst'\n",
    "fk = 'tconst'\n",
    "mask = df2[fk].isin(df1[pk])\n",
    "old_len = len(df2)\n",
    "df2 = df2.drop(df2[~mask].index)\n",
    "print(\"Values of df2 not present in the Primary Key of df1 were dropped!\"\n",
    "      \"\\n{0:,} rows out of {1:,} were removed. {2:,} rows remaining.\"\n",
    "      .format(old_len - len(df2),\n",
    "              old_len,\n",
    "              len(df2)))"
   ],
   "metadata": {
    "collapsed": false,
    "pycharm": {
     "name": "#%%\n",
     "is_executing": false
    }
   },
   "execution_count": 16,
   "outputs": [
    {
     "name": "stdout",
     "text": [
      "Values of df2 not present in the Primary Key of df1 were dropped!\n5,153 rows out of 6,028,571 were removed. 6,023,418 rows remaining.\n"
     ],
     "output_type": "stream"
    }
   ]
  },
  {
   "cell_type": "markdown",
   "source": [
    "#### Save results to file"
   ],
   "metadata": {
    "collapsed": false,
    "pycharm": {
     "name": "#%% md\n"
    }
   }
  },
  {
   "cell_type": "code",
   "execution_count": 17,
   "outputs": [
    {
     "name": "stdout",
     "text": [
      "DataFrame saved to file:\n ../../data/imdb/ref_integrity/title.crew_ri.csv \ntook 9.20 seconds\n"
     ],
     "output_type": "stream"
    }
   ],
   "source": [
    "save_path = data_dir + 'ref_integrity/' + file_name[:-4] + '_ri.csv'\n",
    "t = time()\n",
    "df2.to_csv(save_path, index=False)\n",
    "elapsed = time() - t\n",
    "print(\"DataFrame saved to file:\\n\", save_path,\n",
    "      \"\\ntook {0:.2f} seconds\".format(elapsed))"
   ],
   "metadata": {
    "collapsed": false,
    "pycharm": {
     "name": "#%%\n",
     "is_executing": false
    }
   }
  },
  {
   "cell_type": "markdown",
   "source": [
    "### $\\texttt{title.basics}$ (PK: $\\texttt{tconst}$) and $\\texttt{title.principals}$ (FK: $\\texttt{tconst}$)\n",
    "#### Read tables"
   ],
   "metadata": {
    "collapsed": false
   }
  },
  {
   "cell_type": "code",
   "execution_count": 4,
   "outputs": [
    {
     "name": "stdout",
     "text": [
      "----- DataFrame loaded\nin 17.81 seconds\nwith 6,028,478 rows\nand 9 columns\n-- Column names:\n Index(['tconst', 'titletype', 'primarytitle', 'originaltitle', 'isadult',\n       'startyear', 'endyear', 'runtimeminutes', 'genres'],\n      dtype='object')\n"
     ],
     "output_type": "stream"
    }
   ],
   "source": [
    "t = time()\n",
    "file_name = 'movies_public_title_basics.csv'\n",
    "df1 = pd.read_csv(ri_dir + file_name, delimiter=',',\n",
    "                 na_values='\\\\N')\n",
    "elapsed = time() - t\n",
    "print(\"----- DataFrame loaded\"\n",
    "      \"\\nin {0:.2f} seconds\".format(elapsed) + \n",
    "      \"\\nwith {0:,} rows\\nand {1:,} columns\"\n",
    "      .format(df1.shape[0], df1.shape[1]) + \n",
    "      \"\\n-- Column names:\\n\", df1.columns)"
   ],
   "metadata": {
    "collapsed": false,
    "pycharm": {
     "name": "#%%\n",
     "is_executing": false
    }
   }
  },
  {
   "cell_type": "code",
   "execution_count": 5,
   "outputs": [
    {
     "name": "stdout",
     "text": [
      "----- DataFrame loaded\nin 55.01 seconds\nwith 34,827,472 rows\nand 6 columns\n-- Column names:\n Index(['tconst', 'ordering', 'nconst', 'category', 'job', 'characters'], dtype='object')\n"
     ],
     "output_type": "stream"
    }
   ],
   "source": [
    "t = time()\n",
    "file_name = 'title.principals.tsv'\n",
    "df2 = pd.read_csv(tsv_dir + file_name, delimiter='\\t',\n",
    "                 na_values='\\\\N')\n",
    "elapsed = time() - t\n",
    "print(\"----- DataFrame loaded\"\n",
    "      \"\\nin {0:.2f} seconds\".format(elapsed) + \n",
    "      \"\\nwith {0:,} rows\\nand {1:,} columns\"\n",
    "      .format(df2.shape[0], df2.shape[1]) + \n",
    "      \"\\n-- Column names:\\n\", df2.columns)"
   ],
   "metadata": {
    "collapsed": false,
    "pycharm": {
     "name": "#%%\n",
     "is_executing": false
    }
   }
  },
  {
   "cell_type": "markdown",
   "source": [
    "#### Drop records that violate referential integrity"
   ],
   "metadata": {
    "collapsed": false
   }
  },
  {
   "cell_type": "code",
   "execution_count": 6,
   "outputs": [
    {
     "name": "stdout",
     "text": [
      "Values of df2 not present in the Primary Key of df1 were dropped!\n34,278 rows out of 34,827,472 were removed. 34,793,194 rows remaining. \nTook 20.97 seconds.\n"
     ],
     "output_type": "stream"
    }
   ],
   "source": [
    "t = time()\n",
    "pk = 'tconst'\n",
    "fk = 'tconst'\n",
    "mask = df2[fk].isin(df1[pk])\n",
    "old_len = len(df2)\n",
    "df2 = df2.drop(df2[~mask].index)\n",
    "elapsed = time() - t\n",
    "print(\"Values of df2 not present in the Primary Key of df1 were dropped!\"\n",
    "      \"\\n{0:,} rows out of {1:,} were removed. {2:,} rows remaining.\"\n",
    "      .format(old_len - len(df2),\n",
    "              old_len,\n",
    "              len(df2)),\n",
    "      \"\\nTook {0:,.2f} seconds.\".format(elapsed))"
   ],
   "metadata": {
    "collapsed": false,
    "pycharm": {
     "name": "#%%\n",
     "is_executing": false
    }
   }
  },
  {
   "cell_type": "markdown",
   "source": [
    "### $\\texttt{name.basics}$ (PK: $\\texttt{nconst}$) and $\\texttt{title.principals}$ (FK: $\\texttt{nconst}$)"
   ],
   "metadata": {
    "collapsed": false
   }
  },
  {
   "cell_type": "code",
   "execution_count": 8,
   "outputs": [
    {
     "name": "stdout",
     "text": [
      "----- DataFrame loaded\nin 23.29 seconds\nwith 9,466,310 rows\nand 6 columns\n-- Column names:\n Index(['nconst', 'primaryname', 'birthyear', 'deathyear', 'primaryprofession',\n       'knownfortitles'],\n      dtype='object')\n"
     ],
     "output_type": "stream"
    }
   ],
   "source": [
    "t = time()\n",
    "file_name = 'movies_public_name_basics.csv'\n",
    "df1 = pd.read_csv(ri_dir + file_name, delimiter=',',\n",
    "                 na_values='\\\\N')\n",
    "elapsed = time() - t\n",
    "print(\"----- DataFrame loaded\"\n",
    "      \"\\nin {0:.2f} seconds\".format(elapsed) + \n",
    "      \"\\nwith {0:,} rows\\nand {1:,} columns\"\n",
    "      .format(df1.shape[0], df1.shape[1]) + \n",
    "      \"\\n-- Column names:\\n\", df1.columns)"
   ],
   "metadata": {
    "collapsed": false,
    "pycharm": {
     "name": "#%%\n",
     "is_executing": false
    }
   }
  },
  {
   "cell_type": "markdown",
   "source": [
    "#### Drop records that violate referential integrity"
   ],
   "metadata": {
    "collapsed": false
   }
  },
  {
   "cell_type": "code",
   "execution_count": 9,
   "outputs": [
    {
     "name": "stdout",
     "text": [
      "Values of df2 not present in the Primary Key of df1 were dropped!\n33,888 rows out of 34,793,194 were removed. 34,759,306 rows remaining. \nTook 25.62 seconds.\n"
     ],
     "output_type": "stream"
    }
   ],
   "source": [
    "t = time()\n",
    "pk = 'nconst'\n",
    "fk = 'nconst'\n",
    "mask = df2[fk].isin(df1[pk])\n",
    "old_len = len(df2)\n",
    "df2 = df2.drop(df2[~mask].index)\n",
    "elapsed = time() - t\n",
    "print(\"Values of df2 not present in the Primary Key of df1 were dropped!\"\n",
    "      \"\\n{0:,} rows out of {1:,} were removed. {2:,} rows remaining.\"\n",
    "      .format(old_len - len(df2),\n",
    "              old_len,\n",
    "              len(df2)),\n",
    "      \"\\nTook {0:,.2f} seconds.\".format(elapsed))"
   ],
   "metadata": {
    "collapsed": false,
    "pycharm": {
     "name": "#%%\n",
     "is_executing": false
    }
   }
  },
  {
   "cell_type": "markdown",
   "source": [
    "#### Save results to file"
   ],
   "metadata": {
    "collapsed": false
   }
  },
  {
   "cell_type": "code",
   "execution_count": 10,
   "outputs": [
    {
     "name": "stdout",
     "text": [
      "DataFrame saved to file:\n ../../data/imdb/ref_integrity/title.principals_ri.csv \ntook 158.52 seconds\n"
     ],
     "output_type": "stream"
    }
   ],
   "source": [
    "save_path = data_dir + 'ref_integrity/' + 'title.principals_ri.csv'\n",
    "t = time()\n",
    "df2.to_csv(save_path, index=False)\n",
    "elapsed = time() - t\n",
    "print(\"DataFrame saved to file:\\n\", save_path,\n",
    "      \"\\ntook {0:.2f} seconds\".format(elapsed))"
   ],
   "metadata": {
    "collapsed": false,
    "pycharm": {
     "name": "#%%\n",
     "is_executing": false
    }
   }
  },
  {
   "cell_type": "markdown",
   "source": [
    "### $\\texttt{title.basics}$ (PK: $\\texttt{tconst}$) and $\\texttt{title.ratings}$ (FK: $\\texttt{tconst}$)\n",
    "#### Read tables"
   ],
   "metadata": {
    "collapsed": false
   }
  },
  {
   "cell_type": "code",
   "execution_count": 12,
   "outputs": [
    {
     "name": "stdout",
     "text": [
      "----- DataFrame loaded\nin 17.88 seconds\nwith 6,028,478 rows\nand 9 columns\n-- Column names:\n Index(['tconst', 'titletype', 'primarytitle', 'originaltitle', 'isadult',\n       'startyear', 'endyear', 'runtimeminutes', 'genres'],\n      dtype='object')\n"
     ],
     "output_type": "stream"
    }
   ],
   "source": [
    "t = time()\n",
    "file_name = 'movies_public_title_basics.csv'\n",
    "df1 = pd.read_csv(ri_dir + file_name, delimiter=',',\n",
    "                 na_values='\\\\N')\n",
    "elapsed = time() - t\n",
    "print(\"----- DataFrame loaded\"\n",
    "      \"\\nin {0:.2f} seconds\".format(elapsed) + \n",
    "      \"\\nwith {0:,} rows\\nand {1:,} columns\"\n",
    "      .format(df1.shape[0], df1.shape[1]) + \n",
    "      \"\\n-- Column names:\\n\", df1.columns)"
   ],
   "metadata": {
    "collapsed": false,
    "pycharm": {
     "name": "#%%\n",
     "is_executing": false
    }
   }
  },
  {
   "cell_type": "code",
   "execution_count": 13,
   "outputs": [
    {
     "name": "stdout",
     "text": [
      "----- DataFrame loaded\nin 2.65 seconds\nwith 955,850 rows\nand 3 columns\n-- Column names:\n Index(['tconst', 'averageRating', 'numVotes'], dtype='object')\n"
     ],
     "output_type": "stream"
    }
   ],
   "source": [
    "t = time()\n",
    "file_name = 'title.ratings.tsv'\n",
    "df2 = pd.read_csv(tsv_dir + file_name, delimiter='\\t',\n",
    "                 na_values='\\\\N')\n",
    "elapsed = time() - t\n",
    "print(\"----- DataFrame loaded\"\n",
    "      \"\\nin {0:.2f} seconds\".format(elapsed) + \n",
    "      \"\\nwith {0:,} rows\\nand {1:,} columns\"\n",
    "      .format(df2.shape[0], df2.shape[1]) + \n",
    "      \"\\n-- Column names:\\n\", df2.columns)"
   ],
   "metadata": {
    "collapsed": false,
    "pycharm": {
     "name": "#%%\n",
     "is_executing": false
    }
   }
  },
  {
   "cell_type": "markdown",
   "source": [
    "#### Drop records that violate referential integrity"
   ],
   "metadata": {
    "collapsed": false
   }
  },
  {
   "cell_type": "code",
   "execution_count": 14,
   "outputs": [
    {
     "name": "stdout",
     "text": [
      "Values of df2 not present in the Primary Key of df1 were dropped!\n915 rows out of 955,850 were removed. 954,935 rows remaining.\n"
     ],
     "output_type": "stream"
    }
   ],
   "source": [
    "pk = 'tconst'\n",
    "fk = 'tconst'\n",
    "mask = df2[fk].isin(df1[pk])\n",
    "old_len = len(df2)\n",
    "df2 = df2.drop(df2[~mask].index)\n",
    "print(\"Values of df2 not present in the Primary Key of df1 were dropped!\"\n",
    "      \"\\n{0:,} rows out of {1:,} were removed. {2:,} rows remaining.\"\n",
    "      .format(old_len - len(df2),\n",
    "              old_len,\n",
    "              len(df2)))"
   ],
   "metadata": {
    "collapsed": false,
    "pycharm": {
     "name": "#%%\n",
     "is_executing": false
    }
   }
  },
  {
   "cell_type": "markdown",
   "source": [
    "#### Save results to file"
   ],
   "metadata": {
    "collapsed": false
   }
  },
  {
   "cell_type": "code",
   "execution_count": 15,
   "outputs": [
    {
     "name": "stdout",
     "text": [
      "DataFrame saved to file:\n ../../data/imdb/ref_integrity/title.ratings_ri.csv \ntook 4.10 seconds\n"
     ],
     "output_type": "stream"
    }
   ],
   "source": [
    "save_path = data_dir + 'ref_integrity/' + file_name[:-4] + '_ri.csv'\n",
    "t = time()\n",
    "df2.to_csv(save_path, index=False)\n",
    "elapsed = time() - t\n",
    "print(\"DataFrame saved to file:\\n\", save_path,\n",
    "      \"\\ntook {0:.2f} seconds\".format(elapsed))\n"
   ],
   "metadata": {
    "collapsed": false,
    "pycharm": {
     "name": "#%%\n",
     "is_executing": false
    }
   }
  }
 ],
 "metadata": {
  "language_info": {
   "codemirror_mode": {
    "name": "ipython",
    "version": 2
   },
   "file_extension": ".py",
   "mimetype": "text/x-python",
   "name": "python",
   "nbconvert_exporter": "python",
   "pygments_lexer": "ipython2",
   "version": "2.7.6"
  },
  "kernelspec": {
   "name": "python3",
   "language": "python",
   "display_name": "Python 3"
  },
  "pycharm": {
   "stem_cell": {
    "cell_type": "raw",
    "source": [],
    "metadata": {
     "collapsed": false
    }
   }
  }
 },
 "nbformat": 4,
 "nbformat_minor": 0
}