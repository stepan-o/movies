{
 "cells": [
  {
   "cell_type": "markdown",
   "source": [
    "# Movies dataset\n",
    "# OSEMN methodology, Step 3:\n",
    "# Explore cleaned data obtained from IMDb\n",
    "For description of EDA methodology, refer to $\\texttt{methodology/3.explore/}$\n",
    "\n",
    "For previous steps, refer to $\\texttt{notebooks/1.obtain}$ and $\\texttt{notebooks/2.scrub}$.\n",
    "\n",
    "Datasets that are being explored here have been produced from PostgreSQL database that was created from the .tsv files downloaded from IMDb in Step 1: Obtain.\n",
    "\n",
    "EDA datasets have been produced via SQL queries, for details refer to $\\texttt{sql/queries/eda}$ and $\\texttt{sql/queries/eda_join}$."
   ],
   "metadata": {
    "collapsed": false
   }
  },
  {
   "cell_type": "markdown",
   "source": [
    "## Import dependencies"
   ],
   "metadata": {
    "collapsed": false
   }
  },
  {
   "cell_type": "code",
   "execution_count": 1,
   "outputs": [],
   "source": [
    "import matplotlib.pyplot as plt\n",
    "import seaborn as sns\n",
    "import pandas as pd\n",
    "from time import time\n",
    "import os\n",
    "\n",
    "sns.set()"
   ],
   "metadata": {
    "collapsed": false,
    "pycharm": {
     "name": "#%%\n",
     "is_executing": false
    }
   }
  },
  {
   "cell_type": "code",
   "execution_count": 2,
   "outputs": [
    {
     "data": {
      "text/plain": "['title.basics.tsv',\n 'title.ratings.tsv',\n 'name.basics.tsv',\n 'title.crew.tsv',\n 'title.principals.tsv',\n 'title.akas.tsv',\n 'title.episode.tsv']"
     },
     "metadata": {},
     "output_type": "execute_result",
     "execution_count": 2
    }
   ],
   "source": [
    "data_dir = '../../data/imdb/'\n",
    "tsv_dir = data_dir + 'unpacked/'\n",
    "os.listdir(tsv_dir)"
   ],
   "metadata": {
    "collapsed": false,
    "pycharm": {
     "name": "#%%\n",
     "is_executing": false
    }
   }
  },
  {
   "cell_type": "code",
   "execution_count": 3,
   "outputs": [
    {
     "data": {
      "text/plain": "['title.akas_ri.csv',\n 'title.ratings_ri.csv',\n 'title.episode_ri.csv',\n 'title.principals_ri.csv',\n 'title.crew_ri.csv',\n 'movies_public_title.basics.csv',\n 'movies_public_name.basics.csv']"
     },
     "metadata": {},
     "output_type": "execute_result",
     "execution_count": 3
    }
   ],
   "source": [
    "ri_dir = data_dir + 'ref_integrity/'\n",
    "os.listdir(ri_dir)"
   ],
   "metadata": {
    "collapsed": false,
    "pycharm": {
     "name": "#%%\n",
     "is_executing": false
    }
   }
  },
  {
   "cell_type": "code",
   "execution_count": 4,
   "outputs": [
    {
     "data": {
      "text/plain": "['title.principles_count_by_job.csv',\n 'title.principals_count_by_tconst.csv',\n 'title.basics_200_count_by_originaltitle.csv',\n 'title.basics_runtime_by_startyear.csv',\n 'title.principals_unq_nconst_counts_by_category.csv',\n 'title.basics_count_by_originaltitle.csv',\n 'title.basics_count_by_genre_ts.csv',\n 'title.crew_count_by_directors.csv',\n 'title.principals_unq_nconst_count_by_job.csv',\n 'title.episode_erratic_season.csv',\n 'title.principals_count_by_nconst.csv',\n 'name.basics_num_professionals.csv',\n 'title.basics_primarytitle_Home.csv',\n 'title.basics_count_by_startyear.csv',\n 'title.episode_count_by_parenttconst.csv',\n 'title.basics_primarytitle_Alone.csv',\n 'title.basics_count_by_primarytitle.csv',\n 'title.episode_count_by_season.csv',\n 'title.basics_primarytitle_Broken.csv',\n 'title.basics_future_Avatars.csv',\n 'title.akas_count_by_language.csv',\n 'title.akas_count_by_region.csv',\n 'title.akas_100_most_akas.csv',\n 'title.basics_count_by_titletype.csv',\n 'title.basics_200_count_by_primarytitle.csv',\n 'title.basics_count_by_genre_total.csv',\n 'title.basics_100_Years.csv',\n 'title.crew_count_by_writers.csv']"
     },
     "metadata": {},
     "output_type": "execute_result",
     "execution_count": 4
    }
   ],
   "source": [
    "eda_dir = '../../sql/results/EDA/'\n",
    "os.listdir(eda_dir)"
   ],
   "metadata": {
    "collapsed": false,
    "pycharm": {
     "name": "#%%\n",
     "is_executing": false
    }
   }
  },
  {
   "cell_type": "code",
   "execution_count": 7,
   "outputs": [
    {
     "data": {
      "text/plain": "['johnny_depp_movies.csv',\n 'top_rated_movies_by_year.csv',\n 'comedies_8.5_rating_100_votes.csv',\n 'top_rated_comedies_by_year.csv']"
     },
     "metadata": {},
     "output_type": "execute_result",
     "execution_count": 7
    }
   ],
   "source": [
    "eda_join_dir = '../../sql/results/EDA_JOIN/'\n",
    "os.listdir(eda_join_dir)"
   ],
   "metadata": {
    "collapsed": false,
    "pycharm": {
     "name": "#%%\n",
     "is_executing": false
    }
   }
  },
  {
   "cell_type": "code",
   "execution_count": null,
   "outputs": [],
   "source": [
    "t = time()\n",
    "file_name = 'johnny_depp_movies.csv'\n",
    "df = pd.read_csv(eda_join_dir + file_name, delimiter=',',\n",
    "                 na_values='\\\\N')\n",
    "elapsed = time() - t\n",
    "print(\"----- DataFrame loaded\"\n",
    "      \"\\nin {0:.2f} seconds\".format(elapsed) + \n",
    "      \"\\nwith {0:,} rows\\nand {1:,} columns\"\n",
    "      .format(df.shape[0], df.shape[1]) + \n",
    "      \"\\n-- Column names:\\n\", df.columns)"
   ],
   "metadata": {
    "collapsed": false,
    "pycharm": {
     "name": "#%%\n"
    }
   }
  },
  {
   "cell_type": "code",
   "execution_count": null,
   "outputs": [],
   "source": [
    "f, ax = plt.subplots(1, figsize=(8, 6))\n",
    "\n",
    "sns.lineplot(data=df, x='startyear', y='averagerating', ax=ax)\n",
    "# sns.relplot(data=df, x='startyear', y='averagerating', size='numvotes')\n",
    "plt.scatter(x=df['startyear'], y=df['averagerating'], s=df['numvotes'] / 10000)\n",
    "ax.set_title(\"The rise and fall of Johnny Depp\"\n",
    "             \"\\nRatings of movies featuring Johnny Depp\")\n",
    "ax.set_ylabel(\"Average rating on IMDb\")\n",
    "ax.set_xlabel(\"Release year\")\n",
    "\n",
    "plt.savefig('../3.explore/johnny_depp.png')\n",
    "# plt.show()"
   ],
   "metadata": {
    "collapsed": false,
    "pycharm": {
     "name": "#%%\n"
    }
   }
  },
  {
   "cell_type": "code",
   "execution_count": 61,
   "outputs": [
    {
     "name": "stdout",
     "text": [
      "----- DataFrame loaded\nin 0.02 seconds\nwith 10 rows\nand 8 columns\n-- Column names:\n Index(['name', 'startyear', 'title', 'titletype', 'averagerating', 'numvotes',\n       'job', 'character'],\n      dtype='object')\n"
     ],
     "output_type": "stream"
    }
   ],
   "source": [
    "t = time()\n",
    "file_name = 'del_toro_movies_director.csv'\n",
    "df = pd.read_csv(eda_join_dir + file_name, delimiter=',',\n",
    "                 na_values='\\\\N')\n",
    "elapsed = time() - t\n",
    "print(\"----- DataFrame loaded\"\n",
    "      \"\\nin {0:.2f} seconds\".format(elapsed) + \n",
    "      \"\\nwith {0:,} rows\\nand {1:,} columns\"\n",
    "      .format(df.shape[0], df.shape[1]) + \n",
    "      \"\\n-- Column names:\\n\", df.columns)"
   ],
   "metadata": {
    "collapsed": false,
    "pycharm": {
     "name": "#%%\n",
     "is_executing": false
    }
   }
  },
  {
   "cell_type": "code",
   "execution_count": 62,
   "outputs": [
    {
     "data": {
      "text/plain": "<Figure size 576x432 with 1 Axes>",
      "image/png": "[encoded data removed]"
     },
     "metadata": {
      "needs_background": "light"
     },
     "output_type": "display_data"
    }
   ],
   "source": [
    "f, ax = plt.subplots(1, figsize=(8, 6))\n",
    "\n",
    "sns.lineplot(data=df, x='startyear', y='averagerating', ax=ax)\n",
    "# sns.relplot(data=df, x='startyear', y='averagerating', size='numvotes')\n",
    "plt.scatter(x=df['startyear'], y=df['averagerating'], s=df['numvotes'] / 10000)\n",
    "ax.set_title(\"Ratings of movies directed by Guillermo del Toro\")\n",
    "ax.set_ylabel(\"Average rating on IMDb\")\n",
    "ax.set_xlabel(\"Release year\")\n",
    "for idx, movie in df.iterrows():\n",
    "    ax.text(movie['startyear'], movie['averagerating'] + 0.05, movie['title'],\n",
    "            ha='center')\n",
    "\n",
    "# plt.savefig('../3.explore/del_toro_movies_all.png')\n",
    "plt.show()"
   ],
   "metadata": {
    "collapsed": false,
    "pycharm": {
     "name": "#%%\n",
     "is_executing": false
    }
   }
  },
  {
   "cell_type": "code",
   "execution_count": 17,
   "outputs": [
    {
     "traceback": [
      "\u001b[0;31m---------------------------------------------------------------------------\u001b[0m",
      "\u001b[0;31mFileNotFoundError\u001b[0m                         Traceback (most recent call last)",
      "\u001b[0;32m<ipython-input-17-9022fb3bc0de>\u001b[0m in \u001b[0;36m<module>\u001b[0;34m\u001b[0m\n\u001b[0;32m----> 1\u001b[0;31m \u001b[0mos\u001b[0m\u001b[0;34m.\u001b[0m\u001b[0mlistdir\u001b[0m\u001b[0;34m(\u001b[0m\u001b[0;34m'../3.explore/johnny_depp.png'\u001b[0m\u001b[0;34m)\u001b[0m\u001b[0;34m\u001b[0m\u001b[0;34m\u001b[0m\u001b[0m\n\u001b[0m",
      "\u001b[0;31mFileNotFoundError\u001b[0m: [Errno 2] No such file or directory: '../3.explore/johnny_depp.png'"
     ],
     "ename": "FileNotFoundError",
     "evalue": "[Errno 2] No such file or directory: '../3.explore/johnny_depp.png'",
     "output_type": "error"
    }
   ],
   "source": [
    "os.listdir('../3.explore/johnny_depp.png')"
   ],
   "metadata": {
    "collapsed": false,
    "pycharm": {
     "name": "#%%\n",
     "is_executing": false
    }
   }
  },
  {
   "cell_type": "code",
   "execution_count": 17,
   "outputs": [
    {
     "data": {
      "text/plain": "<seaborn.axisgrid.FacetGrid at 0x7fbe58178ba8>"
     },
     "metadata": {},
     "output_type": "execute_result",
     "execution_count": 17
    },
    {
     "data": {
      "text/plain": "<Figure size 360x360 with 1 Axes>",
      "image/png": "[encoded data removed]"
     },
     "metadata": {},
     "output_type": "display_data"
    }
   ],
   "source": [
    "sns.relplot(data=df, x='startyear', y='averagerating')"
   ],
   "metadata": {
    "collapsed": false,
    "pycharm": {
     "name": "#%%\n",
     "is_executing": false
    }
   }
  },
  {
   "cell_type": "code",
   "execution_count": null,
   "outputs": [],
   "source": [
    "\n"
   ],
   "metadata": {
    "collapsed": false,
    "pycharm": {
     "name": "#%%\n"
    }
   }
  }
 ],
 "metadata": {
  "language_info": {
   "codemirror_mode": {
    "name": "ipython",
    "version": 2
   },
   "file_extension": ".py",
   "mimetype": "text/x-python",
   "name": "python",
   "nbconvert_exporter": "python",
   "pygments_lexer": "ipython2",
   "version": "2.7.6"
  },
  "kernelspec": {
   "name": "python3",
   "language": "python",
   "display_name": "Python 3"
  },
  "pycharm": {
   "stem_cell": {
    "cell_type": "raw",
    "source": [],
    "metadata": {
     "collapsed": false
    }
   }
  }
 },
 "nbformat": 4,
 "nbformat_minor": 0
}